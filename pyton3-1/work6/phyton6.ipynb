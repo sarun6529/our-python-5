{
 "cells": [
  {
   "cell_type": "code",
   "execution_count": 2,
   "metadata": {},
   "outputs": [
    {
     "name": "stdout",
     "output_type": "stream",
     "text": [
      "LOL\n"
     ]
    }
   ],
   "source": [
    "print(\"LOL\")"
   ]
  },
  {
   "cell_type": "code",
   "execution_count": 4,
   "metadata": {},
   "outputs": [
    {
     "name": "stdout",
     "output_type": "stream",
     "text": [
      "98.6°F = 310.15 K\n"
     ]
    }
   ],
   "source": [
    "def fahrenheit_to_kelvin(fahrenheit):\n",
    "    \n",
    "    kelvin = (5.0 / 9.0) * (fahrenheit - 32) + 273.15\n",
    "    return kelvin\n",
    "\n",
    "fahrenheit = 98.6\n",
    "kelvin = fahrenheit_to_kelvin(fahrenheit)\n",
    "print(f\"{fahrenheit}°F = {kelvin:.2f} K\")\n"
   ]
  },
  {
   "cell_type": "code",
   "execution_count": 5,
   "metadata": {},
   "outputs": [
    {
     "name": "stdout",
     "output_type": "stream",
     "text": [
      "4.0°F = 257.59 K\n"
     ]
    }
   ],
   "source": [
    "def fahrenheit_to_kelvin(fahrenheit):\n",
    "    \"\"\"\n",
    "    แปลงอุณหภูมิจากฟาเรนไฮต์เป็นเคลวิน\n",
    "\n",
    "    Parameters:\n",
    "    fahrenheit (float): อุณหภูมิในหน่วยฟาเรนไฮต์\n",
    "\n",
    "    Returns:\n",
    "    float: อุณหภูมิในหน่วยเคลวิน\n",
    "    \"\"\"\n",
    "    kelvin = (5.0 / 9.0) * (fahrenheit - 32) + 273.15\n",
    "    return kelvin\n",
    "\n",
    "def main():\n",
    "    \n",
    "    fahrenheit = float(input(\"ใส่อุณหภูมิในหน่วยฟาเรนไฮต์: \"))\n",
    "    \n",
    "    \n",
    "    kelvin = fahrenheit_to_kelvin(fahrenheit)\n",
    "    \n",
    "    \n",
    "    print(f\"{fahrenheit}°F = {kelvin:.2f} K\")\n",
    "\n",
    "\n",
    "main()\n"
   ]
  },
  {
   "cell_type": "code",
   "execution_count": 7,
   "metadata": {},
   "outputs": [
    {
     "name": "stdout",
     "output_type": "stream",
     "text": [
      "6.0°F = 258.71 K\n"
     ]
    }
   ],
   "source": [
    "def fahrenheit_to_kelvin(fahrenheit):\n",
    "    \"\"\"\n",
    "    แปลงอุณหภูมิจากฟาเรนไฮต์เป็นเคลวิน\n",
    "\n",
    "    Parameters:\n",
    "    fahrenheit (float): อุณหภูมิในหน่วยฟาเรนไฮต์\n",
    "\n",
    "    Returns:\n",
    "    float: อุณหภูมิในหน่วยเคลวิน\n",
    "    \"\"\"\n",
    "    kelvin = (5.0 / 9.0) * (fahrenheit - 32) + 273.15\n",
    "    return kelvin\n",
    "\n",
    "def fahrenheit_to_celsius(fahrenheit):\n",
    "    \"\"\"\n",
    "    แปลงอุณหภูมิจากฟาเรนไฮต์เป็นเซลเซียส\n",
    "\n",
    "    Parameters:\n",
    "    fahrenheit (float): อุณหภูมิในหน่วยฟาเรนไฮต์\n",
    "\n",
    "    Returns:\n",
    "    float: อุณหภูมิในหน่วยเซลเซียส\n",
    "    \"\"\"\n",
    "    celsius = (5.0 / 9.0) * (fahrenheit - 32)\n",
    "    return celsius\n",
    "\n",
    "def main():\n",
    "    \n",
    "    fahrenheit = float(input(\"ใส่อุณหภูมิในหน่วยฟาเรนไฮต์: \"))\n",
    "    \n",
    "    \n",
    "    choice = input(\"ต้องการแปลงอุณหภูมิเป็นหน่วยอะไร? (K สำหรับเคลวิน, C สำหรับเซลเซียส): \").strip().upper()\n",
    "\n",
    "    if choice == 'K':\n",
    "        \n",
    "        kelvin = fahrenheit_to_kelvin(fahrenheit)\n",
    "        print(f\"{fahrenheit}°F = {kelvin:.2f} K\")\n",
    "    elif choice == 'C':\n",
    "        \n",
    "        celsius = fahrenheit_to_celsius(fahrenheit)\n",
    "        print(f\"{fahrenheit}°F = {celsius:.2f}°C\")\n",
    "    else:\n",
    "        print(\"ตัวเลือกไม่ถูกต้อง กรุณาเลือก K หรือ C เท่านั้น\")\n",
    "\n",
    "\n",
    "main()\n"
   ]
  },
  {
   "cell_type": "code",
   "execution_count": 10,
   "metadata": {},
   "outputs": [
    {
     "name": "stdout",
     "output_type": "stream",
     "text": [
      "90.0°F = 305.37 K\n",
      "90.0°F = 32.22°C\n"
     ]
    }
   ],
   "source": [
    "def fahrenheit_to_kelvin(fahrenheit):\n",
    "    \"\"\"\n",
    "    แปลงอุณหภูมิจากฟาเรนไฮต์เป็นเคลวิน\n",
    "\n",
    "    Parameters:\n",
    "    fahrenheit (float): อุณหภูมิในหน่วยฟาเรนไฮต์\n",
    "\n",
    "    Returns:\n",
    "    float: อุณหภูมิในหน่วยเคลวิน\n",
    "    \"\"\"\n",
    "    kelvin = (5.0 / 9.0) * (fahrenheit - 32) + 273.15\n",
    "    return kelvin\n",
    "\n",
    "def fahrenheit_to_celsius(fahrenheit):\n",
    "    \"\"\"\n",
    "    แปลงอุณหภูมิจากฟาเรนไฮต์เป็นเซลเซียส\n",
    "\n",
    "    Parameters:\n",
    "    fahrenheit (float): อุณหภูมิในหน่วยฟาเรนไฮต์\n",
    "\n",
    "    Returns:\n",
    "    float: อุณหภูมิในหน่วยเซลเซียส\n",
    "    \"\"\"\n",
    "    celsius = (5.0 / 9.0) * (fahrenheit - 32)\n",
    "    return celsius\n",
    "\n",
    "def main():\n",
    "    fahrenheit = float(input(\"ใส่อุณหภูมิในหน่วยฟาเรนไฮต์: \"))\n",
    "    \n",
    "    kelvin = fahrenheit_to_kelvin(fahrenheit)\n",
    "    \n",
    "    celsius = fahrenheit_to_celsius(fahrenheit)\n",
    "    \n",
    "    print(f\"{fahrenheit}°F = {kelvin:.2f} K\")\n",
    "    print(f\"{fahrenheit}°F = {celsius:.2f}°C\")\n",
    "\n",
    "main()\n"
   ]
  },
  {
   "cell_type": "code",
   "execution_count": 1,
   "metadata": {},
   "outputs": [
    {
     "name": "stdout",
     "output_type": "stream",
     "text": [
      "30\n"
     ]
    }
   ],
   "source": [
    "a = 10\n",
    "b = 20\n",
    "print(a+b)"
   ]
  }
 ],
 "metadata": {
  "kernelspec": {
   "display_name": "Python 3",
   "language": "python",
   "name": "python3"
  },
  "language_info": {
   "codemirror_mode": {
    "name": "ipython",
    "version": 3
   },
   "file_extension": ".py",
   "mimetype": "text/x-python",
   "name": "python",
   "nbconvert_exporter": "python",
   "pygments_lexer": "ipython3",
   "version": "3.12.2"
  }
 },
 "nbformat": 4,
 "nbformat_minor": 2
}
