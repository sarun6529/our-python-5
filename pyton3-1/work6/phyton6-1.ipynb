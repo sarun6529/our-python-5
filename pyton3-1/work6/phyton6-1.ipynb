{
 "cells": [
  {
   "cell_type": "code",
   "execution_count": 1,
   "metadata": {},
   "outputs": [
    {
     "name": "stdout",
     "output_type": "stream",
     "text": [
      "คะแนนรวมของคุณคือ: 34.0\n"
     ]
    }
   ],
   "source": [
    "def calculate_total_score(classwork_score, behavior_score, midterm_score):\n",
    "    if classwork_score > 20 or classwork_score < 0:\n",
    "        return \"คะแนนเก็บต้องอยู่ระหว่าง 0 ถึง 20\"\n",
    "    if behavior_score > 10 or behavior_score < 0:\n",
    "        return \"คะแนนจิตพิสัยต้องอยู่ระหว่าง 0 ถึง 10\"\n",
    "    if midterm_score > 20 or midterm_score < 0:\n",
    "        return \"คะแนนกลางภาคต้องอยู่ระหว่าง 0 ถึง 20\"\n",
    "\n",
    "    total_score = classwork_score + behavior_score + midterm_score\n",
    "    return total_score\n",
    "\n",
    "try:\n",
    "    classwork_score = float(input(\"กรุณาใส่คะแนนเก็บ (0-20): \"))\n",
    "    behavior_score = float(input(\"กรุณาใส่คะแนนจิตพิสัย (0-10): \"))\n",
    "    midterm_score = float(input(\"กรุณาใส่คะแนนกลางภาค (0-20): \"))\n",
    "\n",
    "    total_score = calculate_total_score(classwork_score, behavior_score, midterm_score)\n",
    "\n",
    "    print(f\"คะแนนรวมของคุณคือ: {total_score}\")\n",
    "\n",
    "except ValueError:\n",
    "    print(\"กรุณาใส่คะแนนที่เป็นตัวเลข\")\n"
   ]
  },
  {
   "cell_type": "code",
   "execution_count": 2,
   "metadata": {},
   "outputs": [
    {
     "name": "stdout",
     "output_type": "stream",
     "text": [
      "คะแนนรวมของคุณคือ: 19.0\n"
     ]
    }
   ],
   "source": [
    "def get_and_calculate_total_score():\n",
    "    try:\n",
    "        classwork_score = float(input(\"กรุณาใส่คะแนนเก็บ (0-20): \"))\n",
    "        behavior_score = float(input(\"กรุณาใส่คะแนนจิตพิสัย (0-10): \"))\n",
    "        midterm_score = float(input(\"กรุณาใส่คะแนนกลางภาค (0-20): \"))\n",
    "\n",
    "        if classwork_score < 0 or classwork_score > 20:\n",
    "            return \"คะแนนเก็บต้องอยู่ระหว่าง 0 ถึง 20\"\n",
    "        if behavior_score < 0 or behavior_score > 10:\n",
    "            return \"คะแนนจิตพิสัยต้องอยู่ระหว่าง 0 ถึง 10\"\n",
    "        if midterm_score < 0 or midterm_score > 20:\n",
    "            return \"คะแนนกลางภาคต้องอยู่ระหว่าง 0 ถึง 20\"\n",
    "\n",
    "        total_score = classwork_score + behavior_score + midterm_score\n",
    "        return f\"คะแนนรวมของคุณคือ: {total_score}\"\n",
    "\n",
    "    except ValueError:\n",
    "        return \"กรุณาใส่คะแนนที่เป็นตัวเลข\"\n",
    "\n",
    "result = get_and_calculate_total_score()\n",
    "print(result)\n"
   ]
  },
  {
   "cell_type": "code",
   "execution_count": 7,
   "metadata": {},
   "outputs": [
    {
     "name": "stdout",
     "output_type": "stream",
     "text": [
      "คะแนนรวมของคุณคือ: 18.0\n"
     ]
    }
   ],
   "source": [
    "def get_and_calculate_total_score():\n",
    "    try:\n",
    "        classwork_score = float(input(\"กรุณาใส่คะแนนเก็บ (0-20): \"))\n",
    "        behavior_score = float(input(\"กรุณาใส่คะแนนจิตพิสัย (0-10): \"))\n",
    "        midterm_score = float(input(\"กรุณาใส่คะแนนกลางภาค (0-20): \"))\n",
    "\n",
    "        assert 0 <= classwork_score <= 20, \"คะแนนเก็บต้องอยู่ระหว่าง 0 ถึง 20\"\n",
    "        assert 0 <= behavior_score <= 10, \"คะแนนจิตพิสัยต้องอยู่ระหว่าง 0 ถึง 10\"\n",
    "        assert 0 <= midterm_score <= 20, \"คะแนนกลางภาคต้องอยู่ระหว่าง 0 ถึง 20\"\n",
    "\n",
    "        total_score = classwork_score + behavior_score + midterm_score\n",
    "        return f\"คะแนนรวมของคุณคือ: {total_score}\"\n",
    "\n",
    "    except AssertionError as e:\n",
    "        return str(e)\n",
    "    except ValueError:\n",
    "        return \"กรุณาใส่คะแนนที่เป็นตัวเลข\"\n",
    "\n",
    "result = get_and_calculate_total_score()\n",
    "print(result)\n"
   ]
  }
 ],
 "metadata": {
  "kernelspec": {
   "display_name": "Python 3",
   "language": "python",
   "name": "python3"
  },
  "language_info": {
   "codemirror_mode": {
    "name": "ipython",
    "version": 3
   },
   "file_extension": ".py",
   "mimetype": "text/x-python",
   "name": "python",
   "nbconvert_exporter": "python",
   "pygments_lexer": "ipython3",
   "version": "3.12.2"
  }
 },
 "nbformat": 4,
 "nbformat_minor": 2
}
